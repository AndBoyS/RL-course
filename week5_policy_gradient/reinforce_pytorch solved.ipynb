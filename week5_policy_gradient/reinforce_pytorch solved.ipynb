{
  "cells": [
    {
      "cell_type": "markdown",
      "metadata": {
        "id": "ntoujxp1sTBP"
      },
      "source": [
        "# REINFORCE in PyTorch\n",
        "\n",
        "Just like we did before for Q-learning, this time we'll design a PyTorch network to learn `CartPole-v1` via policy gradient (REINFORCE).\n",
        "\n",
        "Most of the code in this notebook is taken from approximate Q-learning, so you'll find it more or less familiar and even simpler."
      ]
    },
    {
      "cell_type": "code",
      "execution_count": null,
      "metadata": {
        "id": "LIfMfh_2sTBQ"
      },
      "outputs": [],
      "source": [
        "import sys, os\n",
        "if 'google.colab' in sys.modules and not os.path.exists('.setup_complete'):\n",
        "    !wget -q https://raw.githubusercontent.com/yandexdataschool/Practical_RL/master/setup_colab.sh -O- | bash\n",
        "    !touch .setup_complete\n",
        "\n",
        "# This code creates a virtual display to draw game images on.\n",
        "# It will have no effect if your machine has a monitor.\n",
        "if type(os.environ.get(\"DISPLAY\")) is not str or len(os.environ.get(\"DISPLAY\")) == 0:\n",
        "    !bash ../xvfb start\n",
        "    os.environ['DISPLAY'] = ':1'"
      ]
    },
    {
      "cell_type": "code",
      "source": [
        "!pip install gymnasium\n",
        "!pip install gymnasium[classic_control]"
      ],
      "metadata": {
        "id": "1msyiKrfsUmV"
      },
      "execution_count": null,
      "outputs": []
    },
    {
      "cell_type": "code",
      "execution_count": 9,
      "metadata": {
        "id": "7sieSMHJsTBR"
      },
      "outputs": [],
      "source": [
        "import gymnasium as gym\n",
        "import numpy as np\n",
        "import matplotlib.pyplot as plt\n",
        "%matplotlib inline"
      ]
    },
    {
      "cell_type": "markdown",
      "metadata": {
        "id": "_H1AMQi7sTBS"
      },
      "source": [
        "A caveat: with some versions of `pyglet`, the following cell may crash with `NameError: name 'base' is not defined`. The corresponding bug report is [here](https://github.com/pyglet/pyglet/issues/134). If you see this error, try restarting the kernel."
      ]
    },
    {
      "cell_type": "code",
      "source": [
        "from gymnasium.spaces import Box"
      ],
      "metadata": {
        "id": "gbvDr5lfXGa1"
      },
      "execution_count": 24,
      "outputs": []
    },
    {
      "cell_type": "code",
      "source": [
        "Box(low=-1.0, high=2.0, shape=(3, 4), dtype=np.float32).shape"
      ],
      "metadata": {
        "colab": {
          "base_uri": "https://localhost:8080/"
        },
        "id": "T3F0Xy-xXKxN",
        "outputId": "6e54db28-7ff0-4b22-87b1-277fdc406942"
      },
      "execution_count": 26,
      "outputs": [
        {
          "output_type": "execute_result",
          "data": {
            "text/plain": [
              "(3, 4)"
            ]
          },
          "metadata": {},
          "execution_count": 26
        }
      ]
    },
    {
      "cell_type": "code",
      "source": [],
      "metadata": {
        "id": "6tnQIOBmXalt"
      },
      "execution_count": null,
      "outputs": []
    },
    {
      "cell_type": "code",
      "source": [
        "env.observation_space"
      ],
      "metadata": {
        "colab": {
          "base_uri": "https://localhost:8080/"
        },
        "id": "36IKcp1cWZG6",
        "outputId": "4ee8a02a-3a84-49d7-8841-4334d55b27f2"
      },
      "execution_count": 23,
      "outputs": [
        {
          "output_type": "execute_result",
          "data": {
            "text/plain": [
              "Box([-4.8000002e+00 -3.4028235e+38 -4.1887903e-01 -3.4028235e+38], [4.8000002e+00 3.4028235e+38 4.1887903e-01 3.4028235e+38], (4,), float32)"
            ]
          },
          "metadata": {},
          "execution_count": 23
        }
      ]
    },
    {
      "cell_type": "code",
      "execution_count": 10,
      "metadata": {
        "colab": {
          "base_uri": "https://localhost:8080/",
          "height": 286
        },
        "id": "aHdoEaeOsTBS",
        "outputId": "fa0e05cb-5e5d-4422-8f1a-bead181fed49"
      },
      "outputs": [
        {
          "output_type": "execute_result",
          "data": {
            "text/plain": [
              "<matplotlib.image.AxesImage at 0x7f41c18dcb90>"
            ]
          },
          "metadata": {},
          "execution_count": 10
        },
        {
          "output_type": "display_data",
          "data": {
            "text/plain": [
              "<Figure size 432x288 with 1 Axes>"
            ],
            "image/png": "[encoded data removed]"
          },
          "metadata": {
            "needs_background": "light"
          }
        }
      ],
      "source": [
        "env = gym.make(\"CartPole-v1\", render_mode=\"rgb_array\")\n",
        "\n",
        "# gym compatibility: unwrap TimeLimit\n",
        "if hasattr(env, '_max_episode_steps'):\n",
        "    env = env.env\n",
        "\n",
        "env.reset()\n",
        "n_actions = env.action_space.n\n",
        "state_dim = env.observation_space.shape\n",
        "\n",
        "plt.imshow(env.render())"
      ]
    },
    {
      "cell_type": "code",
      "execution_count": 11,
      "metadata": {
        "colab": {
          "base_uri": "https://localhost:8080/"
        },
        "id": "YqLd3PZEsTBT",
        "outputId": "01b2325e-71eb-4fc0-99dc-f9ace9c6c074"
      },
      "outputs": [
        {
          "output_type": "execute_result",
          "data": {
            "text/plain": [
              "((4,), 2)"
            ]
          },
          "metadata": {},
          "execution_count": 11
        }
      ],
      "source": [
        "state_dim, n_actions"
      ]
    },
    {
      "cell_type": "markdown",
      "metadata": {
        "id": "61iYe4C2sTBU"
      },
      "source": [
        "# Building the network for REINFORCE"
      ]
    },
    {
      "cell_type": "markdown",
      "metadata": {
        "id": "zl0MGraqsTBU"
      },
      "source": [
        "For REINFORCE algorithm, we'll need a model that predicts action probabilities given states.\n",
        "\n",
        "For numerical stability, please __do not include the softmax layer into your network architecture__.\n",
        "We'll use softmax or log-softmax where appropriate."
      ]
    },
    {
      "cell_type": "code",
      "execution_count": 12,
      "metadata": {
        "id": "_cpQoEPTsTBU"
      },
      "outputs": [],
      "source": [
        "import torch\n",
        "import torch.nn as nn"
      ]
    },
    {
      "cell_type": "code",
      "source": [
        "state_dim"
      ],
      "metadata": {
        "colab": {
          "base_uri": "https://localhost:8080/"
        },
        "id": "5hf_I7xEU0lt",
        "outputId": "e97ffb0f-519a-473f-9437-33dad4d340bf"
      },
      "execution_count": 13,
      "outputs": [
        {
          "output_type": "execute_result",
          "data": {
            "text/plain": [
              "(4,)"
            ]
          },
          "metadata": {},
          "execution_count": 13
        }
      ]
    },
    {
      "cell_type": "code",
      "execution_count": 14,
      "metadata": {
        "id": "uRwEJQtysTBV",
        "colab": {
          "base_uri": "https://localhost:8080/"
        },
        "outputId": "365dbba4-f1fd-48b3-a518-24807140024b"
      },
      "outputs": [
        {
          "output_type": "stream",
          "name": "stdout",
          "text": [
            "Sequential(\n",
            "  (0): Linear(in_features=4, out_features=16, bias=True)\n",
            "  (1): ReLU()\n",
            "  (2): Linear(in_features=16, out_features=2, bias=True)\n",
            ")\n"
          ]
        }
      ],
      "source": [
        "# Build a simple neural network that predicts policy logits. \n",
        "# Keep it simple: CartPole isn't worth deep architectures.\n",
        "def create_model(obs_dim, n_actions, hidden_size=16):\n",
        "    model = nn.Sequential(\n",
        "        nn.Linear(np.prod(obs_dim), hidden_size),\n",
        "        nn.ReLU(),\n",
        "        nn.Linear(hidden_size, n_actions)\n",
        "    )\n",
        "    return model\n",
        "\n",
        "model = create_model(state_dim, n_actions)\n",
        "print(model)"
      ]
    },
    {
      "cell_type": "markdown",
      "metadata": {
        "id": "NfX8BcD8sTBV"
      },
      "source": [
        "#### Predict function"
      ]
    },
    {
      "cell_type": "markdown",
      "metadata": {
        "id": "VVHq5ZyqsTBV"
      },
      "source": [
        "Note: output value of this function is not a torch tensor, it's a numpy array.\n",
        "So, here gradient calculation is not needed.\n",
        "<br>\n",
        "Use [no_grad](https://pytorch.org/docs/stable/autograd.html#torch.autograd.no_grad)\n",
        "to suppress gradient calculation.\n",
        "<br>\n",
        "Also, `.detach()` (or legacy `.data` property) can be used instead, but there is a difference:\n",
        "<br>\n",
        "With `.detach()` computational graph is built but then disconnected from a particular tensor,\n",
        "so `.detach()` should be used if that graph is needed for backprop via some other (not detached) tensor;\n",
        "<br>\n",
        "In contrast, no graph is built by any operation in `no_grad()` context, thus it's preferable here."
      ]
    },
    {
      "cell_type": "code",
      "source": [
        "import torch.nn.functional as F"
      ],
      "metadata": {
        "id": "LjTt9GhkV9qw"
      },
      "execution_count": 19,
      "outputs": []
    },
    {
      "cell_type": "code",
      "execution_count": 20,
      "metadata": {
        "id": "yNsVB9GOsTBW"
      },
      "outputs": [],
      "source": [
        "@torch.no_grad()\n",
        "def predict_probs(model, states):\n",
        "    \"\"\" \n",
        "    Predict action probabilities given states.\n",
        "    :param model: nn.Module\n",
        "    :param states: numpy array of shape [batch, state_shape]\n",
        "    :returns: numpy array of shape [batch, n_actions]\n",
        "    \"\"\"\n",
        "    # convert states, compute logits, use softmax to get probability\n",
        "    states_tensor = torch.as_tensor(states, dtype=torch.float32)\n",
        "    logits = model(states_tensor)\n",
        "    probs = F.softmax(logits)\n",
        "    return probs.numpy()"
      ]
    },
    {
      "cell_type": "code",
      "execution_count": 21,
      "metadata": {
        "id": "hIMw56rosTBW",
        "colab": {
          "base_uri": "https://localhost:8080/"
        },
        "outputId": "4fc589e6-2d40-40e2-c1e3-e39fb5640fcf"
      },
      "outputs": [
        {
          "output_type": "stream",
          "name": "stderr",
          "text": [
            "/usr/local/lib/python3.7/dist-packages/ipykernel_launcher.py:12: UserWarning: Implicit dimension choice for softmax has been deprecated. Change the call to include dim=X as an argument.\n",
            "  if sys.path[0] == '':\n"
          ]
        }
      ],
      "source": [
        "test_states = np.array([env.reset()[0] for _ in range(5)])\n",
        "test_probas = predict_probs(model, test_states)\n",
        "assert isinstance(test_probas, np.ndarray), \\\n",
        "    \"you must return np array and not %s\" % type(test_probas)\n",
        "assert tuple(test_probas.shape) == (test_states.shape[0], env.action_space.n), \\\n",
        "    \"wrong output shape: %s\" % np.shape(test_probas)\n",
        "assert np.allclose(np.sum(test_probas, axis=1), 1), \"probabilities do not sum to 1\""
      ]
    },
    {
      "cell_type": "markdown",
      "metadata": {
        "id": "kf-Hf-VZsTBX"
      },
      "source": [
        "### Play the game\n",
        "\n",
        "We can now use our newly built agent to play the game."
      ]
    },
    {
      "cell_type": "code",
      "execution_count": 32,
      "metadata": {
        "id": "oj2f1KVUsTBX"
      },
      "outputs": [],
      "source": [
        "def generate_session(env, model, t_max=1000):\n",
        "    \"\"\" \n",
        "    Play a full session with REINFORCE agent.\n",
        "    Returns sequences of states, actions, and rewards.\n",
        "    \"\"\"\n",
        "    # arrays to record session\n",
        "    available_actions = np.arange(env.action_space.n)\n",
        "    states, actions, rewards = [], [], []\n",
        "    s, _ = env.reset()\n",
        "\n",
        "    for t in range(t_max):\n",
        "        # action probabilities array aka pi(a|s)\n",
        "        action_probs = predict_probs(model, [s])[0]\n",
        "\n",
        "        # Sample action with given probabilities.\n",
        "        a = int(np.random.choice(a=available_actions, p=action_probs, size=1))\n",
        "        new_s, r, done, _, _ = env.step(a)\n",
        "\n",
        "        # record session history to train later\n",
        "        states.append(s)\n",
        "        actions.append(a)\n",
        "        rewards.append(r)\n",
        "\n",
        "        s = new_s\n",
        "        if done:\n",
        "            break\n",
        "\n",
        "    return states, actions, rewards"
      ]
    },
    {
      "cell_type": "code",
      "execution_count": 33,
      "metadata": {
        "id": "phgaXAiUsTBX",
        "colab": {
          "base_uri": "https://localhost:8080/"
        },
        "outputId": "1d840843-034c-4599-dd93-6d701036f1b5"
      },
      "outputs": [
        {
          "output_type": "stream",
          "name": "stderr",
          "text": [
            "/usr/local/lib/python3.7/dist-packages/ipykernel_launcher.py:12: UserWarning: Implicit dimension choice for softmax has been deprecated. Change the call to include dim=X as an argument.\n",
            "  if sys.path[0] == '':\n"
          ]
        }
      ],
      "source": [
        "# test it\n",
        "states, actions, rewards = generate_session(env, model)"
      ]
    },
    {
      "cell_type": "code",
      "execution_count": 34,
      "metadata": {
        "id": "FlPuM94nsTBX",
        "colab": {
          "base_uri": "https://localhost:8080/"
        },
        "outputId": "9f59c484-0cc1-4fd4-cbee-057608af4626"
      },
      "outputs": [
        {
          "output_type": "stream",
          "name": "stdout",
          "text": [
            "[1, 0, 1, 0, 0, 1, 1, 1, 1, 0, 1, 1, 1, 0, 1, 0, 1, 1]\n",
            "[1.0, 1.0, 1.0, 1.0, 1.0, 1.0, 1.0, 1.0, 1.0, 1.0, 1.0, 1.0, 1.0, 1.0, 1.0, 1.0, 1.0, 1.0]\n"
          ]
        }
      ],
      "source": [
        "print(actions)\n",
        "print(rewards)"
      ]
    },
    {
      "cell_type": "markdown",
      "metadata": {
        "id": "8dyrm9B6sTBY"
      },
      "source": [
        "### Computing cumulative rewards\n",
        "\n",
        "$$\n",
        "\\begin{align*}\n",
        "G_t &= r_t + \\gamma r_{t + 1} + \\gamma^2 r_{t + 2} + \\ldots \\\\\n",
        "&= \\sum_{i = t}^T \\gamma^{i - t} r_i \\\\\n",
        "&= r_t + \\gamma * G_{t + 1}\n",
        "\\end{align*}\n",
        "$$"
      ]
    },
    {
      "cell_type": "code",
      "execution_count": 42,
      "metadata": {
        "id": "I2CfXo6VsTBY"
      },
      "outputs": [],
      "source": [
        "def get_cumulative_rewards(rewards,  # rewards at each step\n",
        "                           gamma=0.99  # discount for reward\n",
        "                           ):\n",
        "    \"\"\"\n",
        "    Take a list of immediate rewards r(s,a) for the whole session \n",
        "    and compute cumulative returns (a.k.a. G(s,a) in Sutton '16).\n",
        "    \n",
        "    G_t = r_t + gamma*r_{t+1} + gamma^2*r_{t+2} + ...\n",
        "\n",
        "    A simple way to compute cumulative rewards is to iterate from the last\n",
        "    to the first timestep and compute G_t = r_t + gamma*G_{t+1} recurrently\n",
        "\n",
        "    You must return an array/list of cumulative rewards with as many elements as in the initial rewards.\n",
        "    \"\"\"\n",
        "    cumulative_rewards = np.zeros_like(rewards, dtype=np.float32)\n",
        "    curr_g = 0\n",
        "    for i in range(1, len(rewards) + 1):\n",
        "      curr_g = rewards[-i] + gamma * curr_g\n",
        "      cumulative_rewards[-i] = curr_g\n",
        "        \n",
        "    return cumulative_rewards"
      ]
    },
    {
      "cell_type": "code",
      "execution_count": 45,
      "metadata": {
        "colab": {
          "base_uri": "https://localhost:8080/"
        },
        "id": "fXUHvWXHsTBY",
        "outputId": "45ad1eaa-50a7-43d4-b991-1279fd75a84f"
      },
      "outputs": [
        {
          "output_type": "stream",
          "name": "stdout",
          "text": [
            "looks good!\n"
          ]
        }
      ],
      "source": [
        "get_cumulative_rewards(rewards)\n",
        "assert len(get_cumulative_rewards(list(range(100)))) == 100\n",
        "assert np.allclose(\n",
        "    get_cumulative_rewards([0, 0, 1, 0, 0, 1, 0], gamma=0.9),\n",
        "    [1.40049, 1.5561, 1.729, 0.81, 0.9, 1.0, 0.0])\n",
        "assert np.allclose(\n",
        "    get_cumulative_rewards([0, 0, 1, -2, 3, -4, 0], gamma=0.5),\n",
        "    [0.0625, 0.125, 0.25, -1.5, 1.0, -4.0, 0.0])\n",
        "assert np.allclose(\n",
        "    get_cumulative_rewards([0, 0, 1, 2, 3, 4, 0], gamma=0),\n",
        "    [0, 0, 1, 2, 3, 4, 0])\n",
        "print(\"looks good!\")"
      ]
    },
    {
      "cell_type": "markdown",
      "metadata": {
        "id": "ju0UkaTusTBZ"
      },
      "source": [
        "#### Loss function and updates\n",
        "\n",
        "We now need to define objective and update over policy gradient.\n",
        "\n",
        "Our objective function is\n",
        "\n",
        "$$ J \\approx  { 1 \\over N } \\sum_{s_i,a_i} G(s_i,a_i) $$\n",
        "\n",
        "REINFORCE defines a way to compute the gradient of the expected reward with respect to policy parameters. The formula is as follows:\n",
        "\n",
        "$$ \\nabla_\\theta \\hat J(\\theta) \\approx { 1 \\over N } \\sum_{s_i, a_i} \\nabla_\\theta \\log \\pi_\\theta (a_i \\mid s_i) \\cdot G_t(s_i, a_i) $$\n",
        "\n",
        "We can abuse PyTorch's capabilities for automatic differentiation by defining our objective function as follows:\n",
        "\n",
        "$$ \\hat J(\\theta) \\approx { 1 \\over N } \\sum_{s_i, a_i} \\log \\pi_\\theta (a_i \\mid s_i) \\cdot G_t(s_i, a_i) $$\n",
        "\n",
        "When you compute the gradient of that function with respect to network weights $\\theta$, it will become exactly the policy gradient."
      ]
    },
    {
      "cell_type": "code",
      "execution_count": 47,
      "metadata": {
        "id": "iTdPwEgLsTBZ"
      },
      "outputs": [],
      "source": [
        "# def to_one_hot(y_tensor, ndims):\n",
        "#     \"\"\" helper: take an integer vector and convert it to 1-hot matrix. \"\"\"\n",
        "#     y_tensor = y_tensor.type(torch.LongTensor).view(-1, 1)\n",
        "#     y_one_hot = torch.zeros(\n",
        "#         y_tensor.size()[0], ndims).scatter_(1, y_tensor, 1)\n",
        "#     return y_one_hot\n",
        "\n",
        "import torch.nn.functional as F\n",
        "\n",
        "to_one_hot = F.one_hot"
      ]
    },
    {
      "cell_type": "code",
      "execution_count": 48,
      "metadata": {
        "id": "SsYigRE_sTBZ"
      },
      "outputs": [],
      "source": [
        "def train_on_session(states, actions, rewards, optimizer, \n",
        "                     gamma=0.99, entropy_coef=2e-2):\n",
        "    \"\"\"\n",
        "    Takes a sequence of states, actions and rewards produced by generate_session.\n",
        "    Updates agent's weights by following the policy gradient above.\n",
        "    Please use Adam optimizer with default parameters.\n",
        "    \"\"\"\n",
        "\n",
        "    # cast everything into torch tensors\n",
        "    states = torch.tensor(states, dtype=torch.float32)\n",
        "    actions = torch.tensor(actions, dtype=torch.int64)\n",
        "    cumulative_returns = np.array(get_cumulative_rewards(rewards, gamma))\n",
        "    cumulative_returns = torch.tensor(cumulative_returns, dtype=torch.float32)\n",
        "\n",
        "    # predict logits, probas and log-probas using an agent.\n",
        "    logits = model(states)\n",
        "    probs = nn.functional.softmax(logits, -1)\n",
        "    log_probs = nn.functional.log_softmax(logits, -1)\n",
        "\n",
        "    assert all(isinstance(v, torch.Tensor) for v in [logits, probs, log_probs]), \\\n",
        "        \"please compute using torch tensors and don't use predict_probs function\"\n",
        "\n",
        "    # select log-probabilities for chosen actions, log pi(a_i|s_i)\n",
        "    log_probs_for_actions = torch.sum(\n",
        "        log_probs * to_one_hot(actions, env.action_space.n), dim=1)\n",
        "   \n",
        "    # Compute loss here. Don't forgen entropy regularization with `entropy_coef` \n",
        "    policy_loss = -torch.mean(log_probs_for_actions * cumulative_returns)\n",
        "    entropy = -torch.mean(probs * log_probs)\n",
        "    \n",
        "    total_loss = policy_loss - entropy_coef * entropy\n",
        "\n",
        "    # Gradient descent step\n",
        "    optimizer.zero_grad()\n",
        "    total_loss.backward()\n",
        "    optimizer.step()\n",
        "    \n",
        "    # technical: return session rewards to print them later\n",
        "    return np.sum(rewards)"
      ]
    },
    {
      "cell_type": "code",
      "source": [
        "from IPython.display import clear_output"
      ],
      "metadata": {
        "id": "NGEz4-Xk38Uc"
      },
      "execution_count": 49,
      "outputs": []
    },
    {
      "cell_type": "markdown",
      "metadata": {
        "id": "QiZ1QWUlsTBa"
      },
      "source": [
        "### The actual training"
      ]
    },
    {
      "cell_type": "code",
      "execution_count": 50,
      "metadata": {
        "id": "D_sO-EcdsTBa",
        "colab": {
          "base_uri": "https://localhost:8080/",
          "height": 298
        },
        "outputId": "7ea1deb3-367a-4adf-f60e-d37d027bbf1b"
      },
      "outputs": [
        {
          "output_type": "display_data",
          "data": {
            "text/plain": [
              "<Figure size 432x288 with 1 Axes>"
            ],
            "image/png": "[encoded data removed]"
          },
          "metadata": {
            "needs_background": "light"
          }
        },
        {
          "output_type": "stream",
          "name": "stdout",
          "text": [
            "You Win!\n"
          ]
        }
      ],
      "source": [
        "mean_session_rewards = []\n",
        "model = create_model(state_dim, n_actions)\n",
        "optimizer = torch.optim.Adam(model.parameters(), 5e-3)\n",
        "\n",
        "for i in range(100):\n",
        "    rewards = [train_on_session(*generate_session(env, model), \n",
        "                                optimizer) for _ in range(100)]  # generate new sessions\n",
        "\n",
        "    mean_session_rewards.append(np.mean(rewards))\n",
        "    \n",
        "    clear_output(True)\n",
        "    plt.title(f\"mean reward: {mean_session_rewards[-1]:.3f}\")\n",
        "    plt.plot(mean_session_rewards, label=f\"mean reward per epoch\")\n",
        "    plt.grid()\n",
        "    plt.legend()\n",
        "    plt.show()\n",
        "    \n",
        "    if mean_session_rewards[-1] > 500:\n",
        "        print(\"You Win!\")  # but you can train even further\n",
        "        break"
      ]
    },
    {
      "cell_type": "markdown",
      "metadata": {
        "id": "I7_vPOzMsTBa"
      },
      "source": [
        "### Results & video"
      ]
    },
    {
      "cell_type": "code",
      "source": [
        "!pip install moviepy\n",
        "!pip install imageio_ffmpeg"
      ],
      "metadata": {
        "id": "RA5fcXAgTpRf",
        "colab": {
          "base_uri": "https://localhost:8080/"
        },
        "outputId": "26c28700-b09d-4fe4-8032-798dd2c52d20"
      },
      "execution_count": 51,
      "outputs": [
        {
          "output_type": "stream",
          "name": "stdout",
          "text": [
            "Looking in indexes: https://pypi.org/simple, https://us-python.pkg.dev/colab-wheels/public/simple/\n",
            "Requirement already satisfied: moviepy in /usr/local/lib/python3.7/dist-packages (0.2.3.5)\n",
            "Requirement already satisfied: imageio<3.0,>=2.1.2 in /usr/local/lib/python3.7/dist-packages (from moviepy) (2.9.0)\n",
            "Requirement already satisfied: numpy in /usr/local/lib/python3.7/dist-packages (from moviepy) (1.21.6)\n",
            "Requirement already satisfied: tqdm<5.0,>=4.11.2 in /usr/local/lib/python3.7/dist-packages (from moviepy) (4.64.1)\n",
            "Requirement already satisfied: decorator<5.0,>=4.0.2 in /usr/local/lib/python3.7/dist-packages (from moviepy) (4.4.2)\n",
            "Requirement already satisfied: pillow in /usr/local/lib/python3.7/dist-packages (from imageio<3.0,>=2.1.2->moviepy) (7.1.2)\n",
            "Looking in indexes: https://pypi.org/simple, https://us-python.pkg.dev/colab-wheels/public/simple/\n",
            "Collecting imageio_ffmpeg\n",
            "  Downloading imageio_ffmpeg-0.4.7-py3-none-manylinux2010_x86_64.whl (26.9 MB)\n",
            "\u001b[K     |████████████████████████████████| 26.9 MB 1.6 MB/s \n",
            "\u001b[?25hInstalling collected packages: imageio-ffmpeg\n",
            "Successfully installed imageio-ffmpeg-0.4.7\n"
          ]
        }
      ]
    },
    {
      "cell_type": "code",
      "execution_count": 52,
      "metadata": {
        "id": "zrc2IAO7sTBa",
        "colab": {
          "base_uri": "https://localhost:8080/"
        },
        "outputId": "d74c1ba4-6df6-475f-8316-e9a39231bbd2"
      },
      "outputs": [
        {
          "output_type": "stream",
          "name": "stderr",
          "text": [
            "/usr/local/lib/python3.7/dist-packages/ipykernel_launcher.py:12: UserWarning: Implicit dimension choice for softmax has been deprecated. Change the call to include dim=X as an argument.\n",
            "  if sys.path[0] == '':\n"
          ]
        },
        {
          "output_type": "stream",
          "name": "stdout",
          "text": [
            "[MoviePy] >>>> Building video /content/videos/rl-video-episode-0.mp4\n",
            "[MoviePy] Writing video /content/videos/rl-video-episode-0.mp4\n"
          ]
        },
        {
          "output_type": "stream",
          "name": "stderr",
          "text": [
            "100%|██████████| 501/501 [00:03<00:00, 146.76it/s]\n"
          ]
        },
        {
          "output_type": "stream",
          "name": "stdout",
          "text": [
            "[MoviePy] Done.\n",
            "[MoviePy] >>>> Video ready: /content/videos/rl-video-episode-0.mp4 \n",
            "\n"
          ]
        },
        {
          "output_type": "stream",
          "name": "stderr",
          "text": [
            "/usr/local/lib/python3.7/dist-packages/ipykernel_launcher.py:12: UserWarning: Implicit dimension choice for softmax has been deprecated. Change the call to include dim=X as an argument.\n",
            "  if sys.path[0] == '':\n"
          ]
        },
        {
          "output_type": "stream",
          "name": "stdout",
          "text": [
            "[MoviePy] >>>> Building video /content/videos/rl-video-episode-1.mp4\n",
            "[MoviePy] Writing video /content/videos/rl-video-episode-1.mp4\n"
          ]
        },
        {
          "output_type": "stream",
          "name": "stderr",
          "text": [
            "100%|██████████| 501/501 [00:05<00:00, 98.09it/s]\n"
          ]
        },
        {
          "output_type": "stream",
          "name": "stdout",
          "text": [
            "[MoviePy] Done.\n",
            "[MoviePy] >>>> Video ready: /content/videos/rl-video-episode-1.mp4 \n",
            "\n",
            "[MoviePy] >>>> Building video /content/videos/rl-video-episode-8.mp4\n",
            "[MoviePy] Writing video /content/videos/rl-video-episode-8.mp4\n"
          ]
        },
        {
          "output_type": "stream",
          "name": "stderr",
          "text": [
            "100%|██████████| 502/502 [00:02<00:00, 213.01it/s]"
          ]
        },
        {
          "output_type": "stream",
          "name": "stdout",
          "text": [
            "[MoviePy] Done.\n",
            "[MoviePy] >>>> Video ready: /content/videos/rl-video-episode-8.mp4 \n",
            "\n"
          ]
        },
        {
          "output_type": "stream",
          "name": "stderr",
          "text": [
            "\n"
          ]
        },
        {
          "output_type": "stream",
          "name": "stdout",
          "text": [
            "[MoviePy] >>>> Building video /content/videos/rl-video-episode-27.mp4\n",
            "[MoviePy] Writing video /content/videos/rl-video-episode-27.mp4\n"
          ]
        },
        {
          "output_type": "stream",
          "name": "stderr",
          "text": [
            "100%|██████████| 502/502 [00:03<00:00, 164.03it/s]\n"
          ]
        },
        {
          "output_type": "stream",
          "name": "stdout",
          "text": [
            "[MoviePy] Done.\n",
            "[MoviePy] >>>> Video ready: /content/videos/rl-video-episode-27.mp4 \n",
            "\n",
            "[MoviePy] >>>> Building video /content/videos/rl-video-episode-64.mp4\n",
            "[MoviePy] Writing video /content/videos/rl-video-episode-64.mp4\n"
          ]
        },
        {
          "output_type": "stream",
          "name": "stderr",
          "text": [
            "100%|██████████| 502/502 [00:02<00:00, 218.28it/s]\n"
          ]
        },
        {
          "output_type": "stream",
          "name": "stdout",
          "text": [
            "[MoviePy] Done.\n",
            "[MoviePy] >>>> Video ready: /content/videos/rl-video-episode-64.mp4 \n",
            "\n"
          ]
        }
      ],
      "source": [
        "# Record sessions\n",
        "\n",
        "from gymnasium.wrappers import RecordVideo\n",
        "\n",
        "with RecordVideo(gym.make(\"CartPole-v1\", render_mode=\"rgb_array\"), \n",
        "                 video_folder=\"videos\") as env_monitor:\n",
        "    sessions = [generate_session(env_monitor, model) for _ in range(100)]"
      ]
    },
    {
      "cell_type": "code",
      "execution_count": 53,
      "metadata": {
        "id": "Eb2EdthysTBb",
        "colab": {
          "base_uri": "https://localhost:8080/",
          "height": 501
        },
        "outputId": "e6401c5e-df2e-4ed8-d634-5a4849d1eb88"
      },
      "outputs": [
        {
          "output_type": "execute_result",
          "data": {
            "text/plain": [
              "<IPython.core.display.HTML object>"
            ],
            "text/html": [
              "\n",
              "<video width=\"640\" height=\"480\" controls>\n",
              "  <source src=\"data:video/mp4;base64,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\" type=\"video/mp4\">\n",
              "</video>\n"
            ]
          },
          "metadata": {},
          "execution_count": 53
        }
      ],
      "source": [
        "# Show video. This may not work in some setups. If it doesn't\n",
        "# work for you, you can download the videos and view them locally.\n",
        "\n",
        "from pathlib import Path\n",
        "from base64 import b64encode\n",
        "from IPython.display import HTML\n",
        "\n",
        "video_paths = sorted([s for s in Path('videos').iterdir() if s.suffix == '.mp4'])\n",
        "video_path = video_paths[-1]  # You can also try other indices\n",
        "\n",
        "if 'google.colab' in sys.modules:\n",
        "    # https://stackoverflow.com/a/57378660/1214547\n",
        "    with video_path.open('rb') as fp:\n",
        "        mp4 = fp.read()\n",
        "    data_url = 'data:video/mp4;base64,' + b64encode(mp4).decode()\n",
        "else:\n",
        "    data_url = str(video_path)\n",
        "\n",
        "HTML(\"\"\"\n",
        "<video width=\"640\" height=\"480\" controls>\n",
        "  <source src=\"{}\" type=\"video/mp4\">\n",
        "</video>\n",
        "\"\"\".format(data_url))"
      ]
    },
    {
      "cell_type": "code",
      "source": [],
      "metadata": {
        "id": "3DJa8lNYcq1b"
      },
      "execution_count": null,
      "outputs": []
    }
  ],
  "metadata": {
    "kernelspec": {
      "display_name": "Python 3",
      "language": "python",
      "name": "python3"
    },
    "language_info": {
      "codemirror_mode": {
        "name": "ipython",
        "version": 3
      },
      "file_extension": ".py",
      "mimetype": "text/x-python",
      "name": "python",
      "nbconvert_exporter": "python",
      "pygments_lexer": "ipython3",
      "version": "3.7.6"
    },
    "colab": {
      "provenance": []
    }
  },
  "nbformat": 4,
  "nbformat_minor": 0
}