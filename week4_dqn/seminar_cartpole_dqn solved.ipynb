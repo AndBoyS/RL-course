{
  "cells": [
    {
      "cell_type": "markdown",
      "metadata": {
        "id": "HA3gI2zpTeSp"
      },
      "source": [
        "# Approximate q-learning\n",
        "\n",
        "In this notebook you will teach a __PyTorch__ neural network to do Q-learning."
      ]
    },
    {
      "cell_type": "code",
      "execution_count": null,
      "metadata": {
        "id": "xCk-vc7bTeSq"
      },
      "outputs": [],
      "source": [
        "import sys, os\n",
        "if 'google.colab' in sys.modules and not os.path.exists('.setup_complete'):\n",
        "    !wget -q https://raw.githubusercontent.com/yandexdataschool/Practical_RL/master/setup_colab.sh -O- | bash\n",
        "    !touch .setup_complete\n",
        "\n",
        "# This code creates a virtual display to draw game images on.\n",
        "# It will have no effect if your machine has a monitor.\n",
        "if type(os.environ.get(\"DISPLAY\")) is not str or len(os.environ.get(\"DISPLAY\")) == 0:\n",
        "    !bash ../xvfb start\n",
        "    os.environ['DISPLAY'] = ':1'"
      ]
    },
    {
      "cell_type": "code",
      "execution_count": null,
      "metadata": {
        "id": "RPc_dlFnTgAn"
      },
      "outputs": [],
      "source": [
        "!pip install gymnasium\n",
        "!pip install gymnasium[classic_control]"
      ]
    },
    {
      "cell_type": "code",
      "execution_count": 10,
      "metadata": {
        "id": "23891KyETeSq"
      },
      "outputs": [],
      "source": [
        "import gymnasium as gym\n",
        "import numpy as np\n",
        "import pandas as pd\n",
        "import matplotlib.pyplot as plt\n",
        "%matplotlib inline"
      ]
    },
    {
      "cell_type": "code",
      "execution_count": 11,
      "metadata": {
        "colab": {
          "base_uri": "https://localhost:8080/",
          "height": 269
        },
        "id": "4bnjEQqmTeSr",
        "outputId": "27f78d82-2992-4da9-d355-9ceb0c2be4b2"
      },
      "outputs": [
        {
          "output_type": "display_data",
          "data": {
            "text/plain": [
              "<Figure size 432x288 with 1 Axes>"
            ],
            "image/png": "[encoded data removed]"
          },
          "metadata": {
            "needs_background": "light"
          }
        }
      ],
      "source": [
        "env = gym.make(\"CartPole-v0\", render_mode=\"rgb_array\").env\n",
        "env.reset()\n",
        "n_actions = env.action_space.n\n",
        "state_dim = env.observation_space.shape\n",
        "\n",
        "plt.imshow(env.render())\n",
        "env.close()"
      ]
    },
    {
      "cell_type": "markdown",
      "metadata": {
        "id": "wuyiNWFCTeSr"
      },
      "source": [
        "# Approximate Q-learning: building the network\n",
        "\n",
        "To train a neural network policy one must have a neural network policy. Let's build it.\n",
        "\n",
        "\n",
        "Since we're working with a pre-extracted features (cart positions, angles and velocities), we don't need a complicated network yet. In fact, let's build something like this for starters:\n",
        "\n",
        "![img](https://raw.githubusercontent.com/yandexdataschool/Practical_RL/master/yet_another_week/_resource/qlearning_scheme.png)\n",
        "\n",
        "For your first run, please only use linear layers (`nn.Linear`) and activations. Stuff like batch normalization or dropout may ruin everything if used haphazardly. \n",
        "\n",
        "Also please avoid using nonlinearities like sigmoid & tanh: since agent's observations are not normalized, sigmoids might be saturated at initialization. Instead, use non-saturating nonlinearities like ReLU.\n",
        "\n",
        "Ideally you should start small with maybe 1-2 hidden layers with < 200 neurons and then increase network size if agent doesn't beat the target score."
      ]
    },
    {
      "cell_type": "code",
      "execution_count": 12,
      "metadata": {
        "id": "P8WQKojwTeSs"
      },
      "outputs": [],
      "source": [
        "import torch\n",
        "import torch.nn as nn\n",
        "import torch.nn.functional as F"
      ]
    },
    {
      "cell_type": "code",
      "source": [
        "n_actions"
      ],
      "metadata": {
        "colab": {
          "base_uri": "https://localhost:8080/"
        },
        "id": "mY0ME87QTv9G",
        "outputId": "2168eb94-088b-4cf5-8686-caee7574858c"
      },
      "execution_count": 13,
      "outputs": [
        {
          "output_type": "execute_result",
          "data": {
            "text/plain": [
              "2"
            ]
          },
          "metadata": {},
          "execution_count": 13
        }
      ]
    },
    {
      "cell_type": "code",
      "execution_count": 16,
      "metadata": {
        "id": "RK_xCfDHTeSs"
      },
      "outputs": [],
      "source": [
        "# <YOUR CODE: stack layers!!!1>\n",
        "\n",
        "network = nn.Sequential(\n",
        "    nn.Linear(state_dim[0], 64),\n",
        "    nn.ReLU(),\n",
        "    nn.Linear(64, 32),\n",
        "    nn.ReLU(),\n",
        "    nn.Linear(32, n_actions)\n",
        ")\n",
        "\n",
        "# hint: use state_dim[0] as input size"
      ]
    },
    {
      "cell_type": "code",
      "execution_count": 17,
      "metadata": {
        "id": "u5Ce1hp_TeSs"
      },
      "outputs": [],
      "source": [
        "def get_action(network, state, epsilon=0):\n",
        "    \"\"\"\n",
        "    sample actions with epsilon-greedy policy\n",
        "    recap: with p = epsilon pick random action, else pick action with highest Q(s,a)\n",
        "    \"\"\"\n",
        "    state = torch.tensor(state[None], dtype=torch.float32)\n",
        "    q_values = network(state).detach().numpy()[0]\n",
        "\n",
        "    if np.random.uniform() < epsilon:\n",
        "        return int(np.random.choice(a=len(q_values), size=1))\n",
        "\n",
        "    return int(q_values.argmax())"
      ]
    },
    {
      "cell_type": "code",
      "execution_count": 18,
      "metadata": {
        "colab": {
          "base_uri": "https://localhost:8080/"
        },
        "id": "wdrcQg0gTeSt",
        "outputId": "d2c1afdc-ba27-44d2-b4ba-e75b643ea6a4"
      },
      "outputs": [
        {
          "output_type": "stream",
          "name": "stderr",
          "text": [
            "/usr/local/lib/python3.7/dist-packages/ipykernel_launcher.py:2: UserWarning: Creating a tensor from a list of numpy.ndarrays is extremely slow. Please consider converting the list to a single numpy.ndarray with numpy.array() before converting to a tensor. (Triggered internally at  ../torch/csrc/utils/tensor_new.cpp:201.)\n",
            "  \n"
          ]
        },
        {
          "output_type": "stream",
          "name": "stdout",
          "text": [
            "e=0.0 tests passed\n",
            "e=0.1 tests passed\n",
            "e=0.5 tests passed\n",
            "e=1.0 tests passed\n"
          ]
        }
      ],
      "source": [
        "s, _ = env.reset()\n",
        "assert tuple(network(torch.tensor([s]*3, dtype=torch.float32)).size()) == (\n",
        "    3, n_actions), \"please make sure your model maps state s -> [Q(s,a0), ..., Q(s, a_last)]\"\n",
        "assert isinstance(list(network.modules(\n",
        "))[-1], nn.Linear), \"please make sure you predict q-values without nonlinearity (ignore if you know what you're doing)\"\n",
        "assert isinstance(get_action(network, s), int), \"get_action(s) must return int, not %s. try int(action)\" % (type(get_action(network, s)))\n",
        "\n",
        "# test epsilon-greedy exploration\n",
        "for eps in [0., 0.1, 0.5, 1.0]:\n",
        "    state_frequencies = np.bincount(\n",
        "        [get_action(network, s, epsilon=eps) for i in range(10000)], minlength=n_actions)\n",
        "    best_action = state_frequencies.argmax()\n",
        "    assert abs(state_frequencies[best_action] -\n",
        "               10000 * (1 - eps + eps / n_actions)) < 200\n",
        "    for other_action in range(n_actions):\n",
        "        if other_action != best_action:\n",
        "            assert abs(state_frequencies[other_action] -\n",
        "                       10000 * (eps / n_actions)) < 200\n",
        "    print('e=%.1f tests passed' % eps)"
      ]
    },
    {
      "cell_type": "markdown",
      "metadata": {
        "id": "lgzXnh8KTeSt"
      },
      "source": [
        "### Q-learning via gradient descent\n",
        "\n",
        "We shall now train our agent's Q-function by minimizing the TD loss:\n",
        "$$ L = { 1 \\over N} \\sum_i (Q_{\\theta}(s,a) - [r(s,a) + \\gamma \\cdot max_{a'} Q_{-}(s', a')]) ^2 $$\n",
        "\n",
        "\n",
        "Where\n",
        "* $s, a, r, s'$ are current state, action, reward and next state respectively\n",
        "* $\\gamma$ is a discount factor defined two cells above.\n",
        "\n",
        "The tricky part is with  $Q_{-}(s',a')$. From an engineering standpoint, it's the same as $Q_{\\theta}$ - the output of your neural network policy. However, when doing gradient descent, __we won't propagate gradients through it__ to make training more stable (see lectures).\n",
        "\n",
        "To do so, we shall use `x.detach()` function which basically says \"consider this thing constant when doingbackprop\"."
      ]
    },
    {
      "cell_type": "code",
      "execution_count": 19,
      "metadata": {
        "id": "6wjNuH_MTeSu"
      },
      "outputs": [],
      "source": [
        "def compute_td_loss(network, states, actions, rewards, \n",
        "                    next_states, is_done, gamma=0.99, check_shapes=False):\n",
        "    \"\"\" Compute td loss using torch operations only. Use the formula above. \"\"\"\n",
        "    states = torch.tensor(\n",
        "        states, dtype=torch.float32)                                  # shape: [batch_size, state_size]\n",
        "    actions = torch.tensor(actions, dtype=torch.long)                 # shape: [batch_size]\n",
        "    rewards = torch.tensor(rewards, dtype=torch.float32)              # shape: [batch_size]\n",
        "    # shape: [batch_size, state_size]\n",
        "    next_states = torch.tensor(next_states, dtype=torch.float32)\n",
        "    is_done = torch.tensor(is_done, dtype=torch.bool)                # shape: [batch_size]\n",
        "\n",
        "    # get q-values for all actions in current states\n",
        "    predicted_qvalues = network(states)                               # shape: [batch_size, n_actions]\n",
        "\n",
        "    # select q-values for chosen actions\n",
        "    predicted_qvalues_for_actions = predicted_qvalues[                # shape: [batch_size]\n",
        "      range(states.shape[0]), actions\n",
        "    ]\n",
        "\n",
        "    # compute q-values for all actions in next states\n",
        "    predicted_next_qvalues = network(next_states)\n",
        "\n",
        "    # compute V*(next_states) using predicted next q-values\n",
        "    next_state_values = predicted_next_qvalues.max(dim=1)[0]\n",
        "    assert next_state_values.dtype == torch.float32\n",
        "\n",
        "    # compute \"target q-values\" for loss - it's what's inside square parentheses in the above formula.\n",
        "    target_qvalues_for_actions = rewards + gamma * next_state_values\n",
        "\n",
        "    # at the last state we shall use simplified formula: Q(s,a) = r(s,a) since s' doesn't exist\n",
        "    target_qvalues_for_actions = torch.where(\n",
        "        is_done, rewards, target_qvalues_for_actions)\n",
        "\n",
        "    # mean squared error loss to minimize\n",
        "    loss = torch.mean((predicted_qvalues_for_actions -\n",
        "                       target_qvalues_for_actions.detach()) ** 2)\n",
        "\n",
        "    if check_shapes:\n",
        "        assert predicted_next_qvalues.data.dim(\n",
        "        ) == 2, \"make sure you predicted q-values for all actions in next state\"\n",
        "        assert next_state_values.data.dim(\n",
        "        ) == 1, \"make sure you computed V(s') as maximum over just the actions axis and not all axes\"\n",
        "        assert target_qvalues_for_actions.data.dim(\n",
        "        ) == 1, \"there's something wrong with target q-values, they must be a vector\"\n",
        "\n",
        "    return loss"
      ]
    },
    {
      "cell_type": "code",
      "execution_count": 20,
      "metadata": {
        "id": "Cpkl1rk1TeSu"
      },
      "outputs": [],
      "source": [
        "# sanity checks\n",
        "s, _ = env.reset()\n",
        "a = env.action_space.sample()\n",
        "next_s, r, done, _, _ = env.step(a)\n",
        "loss = compute_td_loss(network, [s], [a], [r], [next_s], [done], check_shapes=True)\n",
        "loss.backward()\n",
        "\n",
        "assert len(loss.size()) == 0, \"you must return scalar loss - mean over batch\"\n",
        "assert np.any(next(network.parameters()).grad.detach().numpy() !=\n",
        "              0), \"loss must be differentiable w.r.t. network weights\""
      ]
    },
    {
      "cell_type": "markdown",
      "metadata": {
        "id": "anzPgOwLTeSu"
      },
      "source": [
        "### Playing the game"
      ]
    },
    {
      "cell_type": "code",
      "execution_count": 21,
      "metadata": {
        "id": "AIej0_CuTeSv"
      },
      "outputs": [],
      "source": [
        "def generate_session(env, network, opt, t_max=1000, epsilon=0, train=False):\n",
        "    \"\"\"play env with approximate q-learning agent and train it at the same time\"\"\"\n",
        "    total_reward = 0\n",
        "    s, _ = env.reset()\n",
        "\n",
        "    for t in range(t_max):\n",
        "        a = get_action(network, s, epsilon=epsilon)\n",
        "        next_s, r, done, _, _ = env.step(a)\n",
        "\n",
        "        if train:\n",
        "            opt.zero_grad()\n",
        "            compute_td_loss(network, [s], [a], [r], [next_s], [done]).backward()\n",
        "            opt.step()\n",
        "\n",
        "        total_reward += r\n",
        "        s = next_s\n",
        "        if done:\n",
        "            break\n",
        "\n",
        "    return total_reward"
      ]
    },
    {
      "cell_type": "code",
      "execution_count": 22,
      "metadata": {
        "id": "G4VJtx8hDW2z"
      },
      "outputs": [],
      "source": [
        "from IPython.display import clear_output"
      ]
    },
    {
      "cell_type": "code",
      "execution_count": 23,
      "metadata": {
        "colab": {
          "base_uri": "https://localhost:8080/",
          "height": 298
        },
        "id": "QWcbSvKaG3f3",
        "outputId": "b35c2bc4-d495-4994-a867-9300325bd2ec"
      },
      "outputs": [
        {
          "output_type": "display_data",
          "data": {
            "text/plain": [
              "<Figure size 432x288 with 1 Axes>"
            ],
            "image/png": "[encoded data removed]"
          },
          "metadata": {
            "needs_background": "light"
          }
        },
        {
          "output_type": "stream",
          "name": "stdout",
          "text": [
            "You Win!\n"
          ]
        }
      ],
      "source": [
        "network = nn.Sequential(\n",
        "    nn.Linear(state_dim[0], 64),\n",
        "    nn.ReLU(),\n",
        "    nn.Linear(64, 32),\n",
        "    nn.ReLU(),\n",
        "    nn.Linear(32, n_actions)\n",
        ")\n",
        "\n",
        "epsilon = 0.5\n",
        "\n",
        "opt = torch.optim.Adam(network.parameters(), lr=1e-4)\n",
        "\n",
        "epoch_rewards = []\n",
        "\n",
        "for i in range(1000):\n",
        "    session_rewards = [generate_session(env, network, opt, \n",
        "                                        epsilon=epsilon, train=True) for _ in range(100)]\n",
        "    epoch_rewards.append(np.mean(session_rewards))\n",
        "\n",
        "    if i % 5 == 0:\n",
        "        clear_output(True)\n",
        "        plt.title(f\"epsilon = {epsilon}\")\n",
        "        plt.plot(epoch_rewards, label=f\"mean reward per epoch = {epoch_rewards[-1]:.2f}\")\n",
        "        plt.grid()\n",
        "        plt.legend()\n",
        "        plt.ylim(0, 350)\n",
        "        plt.show()\n",
        "\n",
        "    epsilon *= 0.99\n",
        "    assert epsilon >= 1e-4, \"Make sure epsilon is always nonzero during training\"\n",
        "\n",
        "    if epoch_rewards[-1] > 300:\n",
        "        print(\"You Win!\")\n",
        "        break"
      ]
    },
    {
      "cell_type": "markdown",
      "metadata": {
        "id": "C1QRdhnOTeSw"
      },
      "source": [
        "### How to interpret results\n",
        "\n",
        "\n",
        "Welcome to the f.. world of deep f...n reinforcement learning. Don't expect agent's reward to smoothly go up. Hope for it to go increase eventually. If it deems you worthy.\n",
        "\n",
        "Seriously though,\n",
        "* __ mean reward__ is the average reward per game. For a correct implementation it may stay low for some 10 epochs, then start growing while oscilating insanely and converges by ~50-100 steps depending on the network architecture. \n",
        "* If it never reaches target score by the end of for loop, try increasing the number of hidden neurons or look at the epsilon.\n",
        "* __ epsilon__ - agent's willingness to explore. If you see that agent's already at < 0.01 epsilon before it's is at least 200, just reset it back to 0.1 - 0.5."
      ]
    },
    {
      "cell_type": "markdown",
      "metadata": {
        "id": "RyLa-RS6TeSw"
      },
      "source": [
        "### Record videos\n",
        "\n",
        "As usual, we now use `gymnasium.wrappers.RecordVideo` to record a video of our agent playing the game. Unlike our previous attempts with state binarization, this time we expect our agent to act ~~(or fail)~~ more smoothly since there's no more binarization error at play.\n",
        "\n",
        "As you already did with tabular q-learning, we set epsilon=0 for final evaluation to prevent agent from exploring himself to death."
      ]
    },
    {
      "cell_type": "code",
      "execution_count": 16,
      "metadata": {
        "id": "r6Adr3niK3js",
        "colab": {
          "base_uri": "https://localhost:8080/"
        },
        "outputId": "c6bc8877-d38c-434e-c2ed-a11f145c9eb2"
      },
      "outputs": [
        {
          "output_type": "stream",
          "name": "stdout",
          "text": [
            "Looking in indexes: https://pypi.org/simple, https://us-python.pkg.dev/colab-wheels/public/simple/\n",
            "Requirement already satisfied: moviepy in /usr/local/lib/python3.7/dist-packages (0.2.3.5)\n",
            "Requirement already satisfied: decorator<5.0,>=4.0.2 in /usr/local/lib/python3.7/dist-packages (from moviepy) (4.4.2)\n",
            "Requirement already satisfied: numpy in /usr/local/lib/python3.7/dist-packages (from moviepy) (1.21.6)\n",
            "Requirement already satisfied: imageio<3.0,>=2.1.2 in /usr/local/lib/python3.7/dist-packages (from moviepy) (2.9.0)\n",
            "Requirement already satisfied: tqdm<5.0,>=4.11.2 in /usr/local/lib/python3.7/dist-packages (from moviepy) (4.64.1)\n",
            "Requirement already satisfied: pillow in /usr/local/lib/python3.7/dist-packages (from imageio<3.0,>=2.1.2->moviepy) (7.1.2)\n",
            "Looking in indexes: https://pypi.org/simple, https://us-python.pkg.dev/colab-wheels/public/simple/\n",
            "Collecting imageio_ffmpeg\n",
            "  Downloading imageio_ffmpeg-0.4.7-py3-none-manylinux2010_x86_64.whl (26.9 MB)\n",
            "\u001b[K     |████████████████████████████████| 26.9 MB 68.6 MB/s \n",
            "\u001b[?25hInstalling collected packages: imageio-ffmpeg\n",
            "Successfully installed imageio-ffmpeg-0.4.7\n"
          ]
        }
      ],
      "source": [
        "!pip install moviepy\n",
        "!pip install imageio_ffmpeg"
      ]
    },
    {
      "cell_type": "code",
      "execution_count": 17,
      "metadata": {
        "id": "w1q72d6LTeSw",
        "colab": {
          "base_uri": "https://localhost:8080/"
        },
        "outputId": "d7fe0c44-21dc-4107-d7e7-d393497c8f7a"
      },
      "outputs": [
        {
          "output_type": "stream",
          "name": "stderr",
          "text": [
            "/usr/local/lib/python3.7/dist-packages/gymnasium/envs/registration.py:556: UserWarning: \u001b[33mWARN: The environment CartPole-v0 is out of date. You should consider upgrading to version `v1`.\u001b[0m\n",
            "  f\"The environment {id} is out of date. You should consider \"\n"
          ]
        },
        {
          "output_type": "stream",
          "name": "stdout",
          "text": [
            "[MoviePy] >>>> Building video /content/videos/rl-video-episode-0.mp4\n",
            "[MoviePy] Writing video /content/videos/rl-video-episode-0.mp4\n"
          ]
        },
        {
          "output_type": "stream",
          "name": "stderr",
          "text": [
            "100%|██████████| 202/202 [00:00<00:00, 247.44it/s]\n"
          ]
        },
        {
          "output_type": "stream",
          "name": "stdout",
          "text": [
            "[MoviePy] Done.\n",
            "[MoviePy] >>>> Video ready: /content/videos/rl-video-episode-0.mp4 \n",
            "\n",
            "[MoviePy] >>>> Building video /content/videos/rl-video-episode-1.mp4\n",
            "[MoviePy] Writing video /content/videos/rl-video-episode-1.mp4\n"
          ]
        },
        {
          "output_type": "stream",
          "name": "stderr",
          "text": [
            "100%|██████████| 202/202 [00:02<00:00, 98.76it/s] \n"
          ]
        },
        {
          "output_type": "stream",
          "name": "stdout",
          "text": [
            "[MoviePy] Done.\n",
            "[MoviePy] >>>> Video ready: /content/videos/rl-video-episode-1.mp4 \n",
            "\n",
            "[MoviePy] >>>> Building video /content/videos/rl-video-episode-8.mp4\n",
            "[MoviePy] Writing video /content/videos/rl-video-episode-8.mp4\n"
          ]
        },
        {
          "output_type": "stream",
          "name": "stderr",
          "text": [
            "100%|██████████| 203/203 [00:02<00:00, 71.81it/s] \n"
          ]
        },
        {
          "output_type": "stream",
          "name": "stdout",
          "text": [
            "[MoviePy] Done.\n",
            "[MoviePy] >>>> Video ready: /content/videos/rl-video-episode-8.mp4 \n",
            "\n",
            "[MoviePy] >>>> Building video /content/videos/rl-video-episode-27.mp4\n",
            "[MoviePy] Writing video /content/videos/rl-video-episode-27.mp4\n"
          ]
        },
        {
          "output_type": "stream",
          "name": "stderr",
          "text": [
            "100%|██████████| 203/203 [00:04<00:00, 48.07it/s]\n"
          ]
        },
        {
          "output_type": "stream",
          "name": "stdout",
          "text": [
            "[MoviePy] Done.\n",
            "[MoviePy] >>>> Video ready: /content/videos/rl-video-episode-27.mp4 \n",
            "\n",
            "[MoviePy] >>>> Building video /content/videos/rl-video-episode-64.mp4\n",
            "[MoviePy] Writing video /content/videos/rl-video-episode-64.mp4\n"
          ]
        },
        {
          "output_type": "stream",
          "name": "stderr",
          "text": [
            "100%|██████████| 203/203 [00:00<00:00, 248.28it/s]\n"
          ]
        },
        {
          "output_type": "stream",
          "name": "stdout",
          "text": [
            "[MoviePy] Done.\n",
            "[MoviePy] >>>> Video ready: /content/videos/rl-video-episode-64.mp4 \n",
            "\n"
          ]
        }
      ],
      "source": [
        "# Record sessions\n",
        "\n",
        "from gymnasium.wrappers import RecordVideo\n",
        "\n",
        "\n",
        "record_env = gym.make(\"CartPole-v0\", render_mode=\"rgb_array\")\n",
        "with RecordVideo(record_env, video_folder=\"videos\") as env_monitor:\n",
        "    sessions = [generate_session(env_monitor, network, opt, epsilon=0, train=False) for _ in range(100)]"
      ]
    },
    {
      "cell_type": "code",
      "execution_count": 18,
      "metadata": {
        "id": "YUvKCoDATeSx",
        "colab": {
          "base_uri": "https://localhost:8080/",
          "height": 501
        },
        "outputId": "61f05920-6a9a-4700-978a-e141cee2b6f5"
      },
      "outputs": [
        {
          "output_type": "execute_result",
          "data": {
            "text/plain": [
              "<IPython.core.display.HTML object>"
            ],
            "text/html": [
              "\n",
              "<video width=\"640\" height=\"480\" controls>\n",
              "  <source src=\"data:video/mp4;base64,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\" type=\"video/mp4\">\n",
              "</video>\n"
            ]
          },
          "metadata": {},
          "execution_count": 18
        }
      ],
      "source": [
        "# Show video. This may not work in some setups. If it doesn't\n",
        "# work for you, you can download the videos and view them locally.\n",
        "import sys\n",
        "from pathlib import Path\n",
        "from base64 import b64encode\n",
        "from IPython.display import HTML\n",
        "\n",
        "\n",
        "video_paths = sorted([s for s in Path('videos').iterdir() if s.suffix == '.mp4'])\n",
        "video_path = video_paths[-1]  # You can also try other indices\n",
        "\n",
        "if 'google.colab' in sys.modules:\n",
        "    # https://stackoverflow.com/a/57378660/1214547\n",
        "    with video_path.open('rb') as fp:\n",
        "        mp4 = fp.read()\n",
        "    data_url = 'data:video/mp4;base64,' + b64encode(mp4).decode()\n",
        "else:\n",
        "    data_url = str(video_path)\n",
        "\n",
        "HTML(\"\"\"\n",
        "<video width=\"640\" height=\"480\" controls>\n",
        "  <source src=\"{}\" type=\"video/mp4\">\n",
        "</video>\n",
        "\"\"\".format(data_url))"
      ]
    },
    {
      "cell_type": "markdown",
      "metadata": {
        "id": "NJHYoW0iQ-6Y"
      },
      "source": [
        "## Breakout"
      ]
    },
    {
      "cell_type": "markdown",
      "metadata": {
        "id": "TkJHjqlKQ-6Y"
      },
      "source": [
        "Guess who's back..."
      ]
    },
    {
      "cell_type": "code",
      "execution_count": null,
      "metadata": {
        "id": "a1tDl8x4Q-6Y"
      },
      "outputs": [],
      "source": [
        "!pip install gym[atari,accept-rom-license]"
      ]
    },
    {
      "cell_type": "code",
      "source": [
        "!pip install --upgrade gym"
      ],
      "metadata": {
        "id": "Vp335qTHZqo7"
      },
      "execution_count": null,
      "outputs": []
    },
    {
      "cell_type": "code",
      "execution_count": 1,
      "metadata": {
        "id": "7O5AvDkEQ-6Y"
      },
      "outputs": [],
      "source": [
        "import gym"
      ]
    },
    {
      "cell_type": "code",
      "source": [
        "gym.__version__"
      ],
      "metadata": {
        "colab": {
          "base_uri": "https://localhost:8080/",
          "height": 35
        },
        "id": "-rlPDRgbZoVa",
        "outputId": "9e9aeaee-2d48-4200-d2e4-9577da36dd54"
      },
      "execution_count": 2,
      "outputs": [
        {
          "output_type": "execute_result",
          "data": {
            "text/plain": [
              "'0.26.2'"
            ],
            "application/vnd.google.colaboratory.intrinsic+json": {
              "type": "string"
            }
          },
          "metadata": {},
          "execution_count": 2
        }
      ]
    },
    {
      "cell_type": "code",
      "source": [
        "import matplotlib.pyplot as plt"
      ],
      "metadata": {
        "id": "cdyZcpp8Z6wd"
      },
      "execution_count": 4,
      "outputs": []
    },
    {
      "cell_type": "code",
      "execution_count": 6,
      "metadata": {
        "colab": {
          "base_uri": "https://localhost:8080/",
          "height": 376
        },
        "id": "QwdRyMniQ-6a",
        "outputId": "e6f35b24-d3c8-4aae-ff41-36a76600deba"
      },
      "outputs": [
        {
          "output_type": "stream",
          "name": "stderr",
          "text": [
            "/usr/local/lib/python3.7/dist-packages/gym/utils/passive_env_checker.py:196: UserWarning: \u001b[33mWARN: The result returned by `env.reset()` was not a tuple of the form `(obs, info)`, where `obs` is a observation and `info` is a dictionary containing additional information. Actual type: `<class 'numpy.ndarray'>`\u001b[0m\n",
            "  f\"The result returned by `env.reset()` was not a tuple of the form `(obs, info)`, where `obs` is a observation and `info` is a dictionary containing additional information. Actual type: `{type(result)}`\"\n",
            "/usr/local/lib/python3.7/dist-packages/gym/utils/passive_env_checker.py:290: UserWarning: \u001b[33mWARN: No render fps was declared in the environment (env.metadata['render_fps'] is None or not defined), rendering may occur at inconsistent fps.\u001b[0m\n",
            "  \"No render fps was declared in the environment (env.metadata['render_fps'] is None or not defined), rendering may occur at inconsistent fps.\"\n"
          ]
        },
        {
          "output_type": "execute_result",
          "data": {
            "text/plain": [
              "<matplotlib.image.AxesImage at 0x7f88f4ebe910>"
            ]
          },
          "metadata": {},
          "execution_count": 6
        },
        {
          "output_type": "display_data",
          "data": {
            "text/plain": [
              "<Figure size 432x288 with 1 Axes>"
            ],
            "image/png": "[encoded data removed]"
          },
          "metadata": {
            "needs_background": "light"
          }
        }
      ],
      "source": [
        "env = gym.make(\"BreakoutNoFrameskip-v4\", render_mode=\"rgb_array\")\n",
        "env.reset()\n",
        "plt.imshow(env.render(mode=\"rgb_array\"))"
      ]
    },
    {
      "cell_type": "code",
      "source": [],
      "metadata": {
        "id": "5TYrlQGzZ5kS"
      },
      "execution_count": null,
      "outputs": []
    }
  ],
  "metadata": {
    "colab": {
      "provenance": []
    },
    "gpuClass": "standard",
    "kernelspec": {
      "display_name": "Python 3",
      "name": "python3"
    },
    "language_info": {
      "name": "python"
    }
  },
  "nbformat": 4,
  "nbformat_minor": 0
}